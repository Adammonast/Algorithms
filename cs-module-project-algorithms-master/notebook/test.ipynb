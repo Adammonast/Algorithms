{
 "cells": [
  {
   "cell_type": "markdown",
   "metadata": {},
   "source": [
    "# Single number"
   ]
  },
  {
   "cell_type": "code",
   "execution_count": 30,
   "metadata": {},
   "outputs": [
    {
     "name": "stdout",
     "output_type": "stream",
     "text": [
      "The odd-number-out is 9\n"
     ]
    }
   ],
   "source": [
    "'''\n",
    "Input: a List of integers where every int except one shows up twice\n",
    "Returns: an integer\n",
    "'''\n",
    "def single_number(arr):\n",
    "    list_arr = []\n",
    "    for ii in arr:\n",
    "        if ii in list_arr:\n",
    "            list_arr.remove(ii)\n",
    "        else:\n",
    "            list_arr.append(ii)\n",
    "    return list_arr.pop()\n",
    "            \n",
    "\n",
    "\n",
    "if __name__ == '__main__':\n",
    "    # Use the main function to test your implementation\n",
    "    arr = [1, 1, 4, 4, 5, 5, 3, 3, 9, 0, 0]\n",
    "\n",
    "    print(f\"The odd-number-out is {single_number(arr)}\")"
   ]
  },
  {
   "cell_type": "code",
   "execution_count": 31,
   "metadata": {},
   "outputs": [],
   "source": [
    "arr = [1, 1, 4, 4, 5, 5, 3, 3, 9, 0, 0]"
   ]
  },
  {
   "cell_type": "code",
   "execution_count": 32,
   "metadata": {},
   "outputs": [
    {
     "name": "stdout",
     "output_type": "stream",
     "text": [
      "9\n"
     ]
    }
   ],
   "source": [
    "print(single_number(arr))"
   ]
  },
  {
   "cell_type": "code",
   "execution_count": 34,
   "metadata": {},
   "outputs": [
    {
     "data": {
      "text/plain": [
       "9"
      ]
     },
     "execution_count": 34,
     "metadata": {},
     "output_type": "execute_result"
    }
   ],
   "source": [
    "2 * sum(set(arr)) - sum(arr)"
   ]
  },
  {
   "cell_type": "markdown",
   "metadata": {},
   "source": [
    "# Moving zeros"
   ]
  },
  {
   "cell_type": "code",
   "execution_count": 60,
   "metadata": {},
   "outputs": [
    {
     "name": "stdout",
     "output_type": "stream",
     "text": [
      "The resulting of moving_zeroes is: [3, 1, -2, 0, 0]\n"
     ]
    }
   ],
   "source": [
    "'''\n",
    "Input: a List of integers\n",
    "Returns: a List of integers\n",
    "'''\n",
    "\n",
    "def moving_zeroes(arr):\n",
    "    zeros= list(filter(lambda ii: ii == 0, arr))\n",
    "    no_zeros = list(filter(lambda ii: ii != 0, arr)) + zeros\n",
    "    return no_zeros\n",
    "\n",
    "\n",
    "if __name__ == '__main__':\n",
    "    # Use the main function here to test out your implementation\n",
    "    arr = [0, 3, 1, 0, -2]\n",
    "\n",
    "    print(f\"The resulting of moving_zeroes is: {moving_zeroes(arr)}\")"
   ]
  },
  {
   "cell_type": "markdown",
   "metadata": {},
   "source": [
    "# Product of all given numbers"
   ]
  },
  {
   "cell_type": "code",
   "execution_count": 65,
   "metadata": {},
   "outputs": [
    {
     "name": "stdout",
     "output_type": "stream",
     "text": [
      "Output of product_of_all_other_numbers: [1585680571938701955406233600000000, 528560190646233985135411200000000, 352373460430822656756940800000000, 396420142984675488851558400000000, 1585680571938701955406233600000000, 1585680571938701955406233600000000, 352373460430822656756940800000000, 317136114387740391081246720000000, 453051591982486272973209600000000, 792840285969350977703116800000000, 453051591982486272973209600000000, 3171361143877403910812467200000000, 352373460430822656756940800000000, 634272228775480782162493440000000, 352373460430822656756940800000000, 3171361143877403910812467200000000, 396420142984675488851558400000000, 3171361143877403910812467200000000, 396420142984675488851558400000000, 528560190646233985135411200000000, 1585680571938701955406233600000000, 528560190646233985135411200000000, 792840285969350977703116800000000, 396420142984675488851558400000000, 352373460430822656756940800000000, 634272228775480782162493440000000, 792840285969350977703116800000000, 352373460430822656756940800000000, 317136114387740391081246720000000, 1057120381292467970270822400000000, 352373460430822656756940800000000, 3171361143877403910812467200000000, 352373460430822656756940800000000, 1585680571938701955406233600000000, 528560190646233985135411200000000, 396420142984675488851558400000000, 634272228775480782162493440000000, 634272228775480782162493440000000, 792840285969350977703116800000000, 453051591982486272973209600000000, 453051591982486272973209600000000, 634272228775480782162493440000000, 396420142984675488851558400000000, 3171361143877403910812467200000000, 528560190646233985135411200000000, 634272228775480782162493440000000, 3171361143877403910812467200000000, 453051591982486272973209600000000, 453051591982486272973209600000000, 396420142984675488851558400000000]\n"
     ]
    }
   ],
   "source": [
    "'''\n",
    "Input: a List of integers\n",
    "Returns: a List of integers\n",
    "'''\n",
    "\n",
    "def product_of_all_other_numbers(arr):\n",
    "    # Less than two ints, no product\n",
    "    if len(arr) < 2:\n",
    "        print(f'Need at least two ints to proceed')\n",
    "        \n",
    "    sum_of_all_ints_EXCEPT_index = [None] * len(arr)\n",
    "    \n",
    "    sum_now = 1\n",
    "    \n",
    "    # For each int, find sum of all int BEFORE it, then store total for each time\n",
    "    for ii in range(len(arr)):\n",
    "        sum_of_all_ints_EXCEPT_index[ii] = sum_now\n",
    "        sum_now *= arr[ii]\n",
    "    \n",
    "    # Now find sum of integers AFTER int and store it\n",
    "    sum_now = 1\n",
    "    \n",
    "    for ii in range(len(arr) -1, -1, -1):\n",
    "        sum_of_all_ints_EXCEPT_index[ii] *= sum_now\n",
    "        sum_now *= arr[ii]\n",
    "        \n",
    "    return sum_of_all_ints_EXCEPT_index\n",
    "\n",
    "\n",
    "if __name__ == '__main__':\n",
    "    # Use the main function to test your implementation\n",
    "#     arr = [1, 2, 3, 4, 5]\n",
    "    arr = [2, 6, 9, 8, 2, 2, 9, 10, 7, 4, 7, 1, 9, 5, 9, 1, 8, 1, 8, 6, 2, 6, 4, 8, 9, 5, 4, 9, 10, 3, 9, 1, 9, 2, 6, 8, 5, 5, 4, 7, 7, 5, 8, 1, 6, 5, 1, 7, 7, 8]\n",
    "\n",
    "    print(f\"Output of product_of_all_other_numbers: {product_of_all_other_numbers(arr)}\")"
   ]
  },
  {
   "cell_type": "code",
   "execution_count": null,
   "metadata": {},
   "outputs": [],
   "source": []
  }
 ],
 "metadata": {
  "kernelspec": {
   "display_name": "U4-S1-NLP (Python3)",
   "language": "python",
   "name": "u4-s1-nlp"
  },
  "language_info": {
   "codemirror_mode": {
    "name": "ipython",
    "version": 3
   },
   "file_extension": ".py",
   "mimetype": "text/x-python",
   "name": "python",
   "nbconvert_exporter": "python",
   "pygments_lexer": "ipython3",
   "version": "3.7.0"
  }
 },
 "nbformat": 4,
 "nbformat_minor": 2
}
