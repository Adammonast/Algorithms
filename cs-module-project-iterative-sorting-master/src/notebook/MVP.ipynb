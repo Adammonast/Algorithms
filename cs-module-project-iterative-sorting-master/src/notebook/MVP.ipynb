{
 "cells": [
  {
   "cell_type": "code",
   "execution_count": 18,
   "metadata": {},
   "outputs": [],
   "source": [
    "def selection_sort(arr):\n",
    "    # loop through n-1 elements\n",
    "    for ii in range(0, len(arr) - 1):\n",
    "        cur_index = ii\n",
    "        smallest_index = cur_index\n",
    "        # (hint, can do in 3 loc)\n",
    "        for i in range(ii + 1, len(arr)):\n",
    "            if arr[i] < arr[smallest_index]:\n",
    "                smallest_index = i\n",
    "\n",
    "\n",
    "        \n",
    "        (arr[ii], arr[smallest_index]) = (arr[smallest_index], arr[ii])\n",
    "\n",
    "    return arr\n",
    "\n",
    "\n",
    "def bubble_sort(arr):\n",
    "    \n",
    "    for index in range(len(arr)):\n",
    "        for index_unsorted in range(0, len(arr) - index -1):\n",
    "            \n",
    "            # To sort in descending order, change > to < in this line.\n",
    "            if arr[index_unsorted] > arr[index_unsorted + 1]:\n",
    "                \n",
    "                # swap if greater is at the rear position\n",
    "                (arr[index_unsorted], arr[index_unsorted + 1]) = (arr[index_unsorted + 1], arr[index_unsorted])\n",
    "\n",
    "    return arr\n",
    "\n",
    "'''\n",
    "STRETCH: implement the Counting Sort function below\n",
    "\n",
    "Counting sort is a sorting algorithm that works on a set of data where\n",
    "we specifically know the maximum value that can exist in that set of\n",
    "data. The idea behind this algorithm then is that we can create \"buckets\"\n",
    "from 0 up to the max value. This is most easily done by initializing an\n",
    "array of 0s whose length is the max value + 1 (why do we need this \"+ 1\"?).\n",
    "\n",
    "Each buckets[i] then is responsible for keeping track of how many times \n",
    "we've seen `i` in the input set of data as we iterate through it.\n",
    "Once we know exactly how many times each piece of data in the input set\n",
    "showed up, we can construct a sorted set of the input data from the \n",
    "buckets. \n",
    "\n",
    "What is the time and space complexity of the counting sort algorithm?\n",
    "'''\n",
    "def counting_sort(arr, maximum=None):\n",
    "    # Your code here\n",
    "\n",
    "\n",
    "    return arr\n"
   ]
  },
  {
   "cell_type": "code",
   "execution_count": 19,
   "metadata": {},
   "outputs": [],
   "source": [
    "data = [-2, 45, 0, 11, -9]"
   ]
  },
  {
   "cell_type": "code",
   "execution_count": 20,
   "metadata": {},
   "outputs": [
    {
     "data": {
      "text/plain": [
       "[-9, -2, 0, 11, 45]"
      ]
     },
     "execution_count": 20,
     "metadata": {},
     "output_type": "execute_result"
    }
   ],
   "source": [
    "selection_sort(data)"
   ]
  },
  {
   "cell_type": "code",
   "execution_count": 21,
   "metadata": {},
   "outputs": [],
   "source": [
    "def selection_sort_2(arr, size):\n",
    "    \n",
    "    for step in range(size):\n",
    "        min_idx = step\n",
    "        \n",
    "        for index in range(step + 1, size):\n",
    "        \n",
    "            if arr[index] < arr[min_idx]:\n",
    "                min_idx = index\n",
    "            \n",
    "        (arr[step], arr[min_idx]) = (arr[min_idx], arr[step])\n",
    "\n",
    "    return arr"
   ]
  },
  {
   "cell_type": "code",
   "execution_count": 22,
   "metadata": {},
   "outputs": [
    {
     "name": "stdout",
     "output_type": "stream",
     "text": [
      "Sorted Array: [-9, -2, 0, 4, 11, 45]\n"
     ]
    }
   ],
   "source": [
    "data = [-2, 4, 0, 45, 11, -9]\n",
    "size = len(data)\n",
    "selection_sort_2(data, size)\n",
    "print('Sorted Array:', data)"
   ]
  },
  {
   "cell_type": "code",
   "execution_count": 23,
   "metadata": {},
   "outputs": [
    {
     "name": "stdout",
     "output_type": "stream",
     "text": [
      "Sorted in Ascending ending order: \n",
      " [-13, -4, 0, 2, 11, 56]\n"
     ]
    }
   ],
   "source": [
    "data = [-4, 56, 11, 0, -13, 2]\n",
    "bubble_sort(data)\n",
    "print(f'Sorted in Ascending ending order: \\n', data)"
   ]
  },
  {
   "cell_type": "code",
   "execution_count": 72,
   "metadata": {},
   "outputs": [],
   "source": [
    "'''\n",
    "STRETCH: implement the Counting Sort function below\n",
    "\n",
    "Counting sort is a sorting algorithm that works on a set of data where\n",
    "we specifically know the maximum value that can exist in that set of\n",
    "data. The idea behind this algorithm then is that we can create \"buckets\"\n",
    "from 0 up to the max value. This is most easily done by initializing an\n",
    "array of 0s whose length is the max value + 1 (why do we need this \"+ 1\"?).\n",
    "\n",
    "Each buckets[i] then is responsible for keeping track of how many times \n",
    "we've seen `i` in the input set of data as we iterate through it.\n",
    "Once we know exactly how many times each piece of data in the input set\n",
    "showed up, we can construct a sorted set of the input data from the \n",
    "buckets. \n",
    "\n",
    "What is the time and space complexity of the counting sort algorithm?\n",
    "'''\n",
    "def counting_sort(arr, maximum=None):\n",
    "\n",
    "    maximum=0\n",
    "    for index in range(len(arr)):\n",
    "        if arr[index] < 0:\n",
    "            return f'Attention, negative numbers can not be used in count sort'\n",
    "        if arr[index] > maximum:\n",
    "            maximum = arr[index]\n",
    "\n",
    "        \n",
    "    # Count the number of times each value appears.\n",
    "    # counts[0] stores the number of 0's in the input, etc\n",
    "    counts = [0] * (maximum + 1)\n",
    "    \n",
    "    # Run through the input list\n",
    "    for index in arr:\n",
    "        counts[index] += 1\n",
    "    \n",
    "    # Overwrite counts to hold the next index an item with\n",
    "    # a given value goes. So, counts[4] will now store the index\n",
    "    # where the next 4 goes, not the number of 4's our\n",
    "    # list has.\n",
    "    index = 0\n",
    "    for sorted_item in range(maximum + 1):\n",
    "        for item in range(counts[sorted_item]):\n",
    "            arr[index] = sorted_item\n",
    "            \n",
    "            # Make sure the next index with the same value goes after the one just placed\n",
    "            index += 1\n",
    "\n",
    "    return arr"
   ]
  },
  {
   "cell_type": "code",
   "execution_count": 77,
   "metadata": {},
   "outputs": [],
   "source": [
    "data = [0, 1, 4, 7, 3, 5, 0, 3]"
   ]
  },
  {
   "cell_type": "code",
   "execution_count": 78,
   "metadata": {},
   "outputs": [
    {
     "data": {
      "text/plain": [
       "[0, 0, 1, 3, 3, 4, 5, 7]"
      ]
     },
     "execution_count": 78,
     "metadata": {},
     "output_type": "execute_result"
    }
   ],
   "source": [
    "counting_sort(data)"
   ]
  },
  {
   "cell_type": "code",
   "execution_count": null,
   "metadata": {},
   "outputs": [],
   "source": []
  }
 ],
 "metadata": {
  "kernelspec": {
   "display_name": "U4-S1-NLP (Python3)",
   "language": "python",
   "name": "u4-s1-nlp"
  },
  "language_info": {
   "codemirror_mode": {
    "name": "ipython",
    "version": 3
   },
   "file_extension": ".py",
   "mimetype": "text/x-python",
   "name": "python",
   "nbconvert_exporter": "python",
   "pygments_lexer": "ipython3",
   "version": "3.7.0"
  }
 },
 "nbformat": 4,
 "nbformat_minor": 2
}
