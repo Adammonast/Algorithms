{
 "cells": [
  {
   "cell_type": "markdown",
   "metadata": {},
   "source": [
    "# Sort"
   ]
  },
  {
   "cell_type": "code",
   "execution_count": 76,
   "metadata": {},
   "outputs": [],
   "source": [
    "# TO-DO: complete the helper function below to merge 2 sorted arrays\n",
    "def merge(arrA, arrB):\n",
    "    elements = len(arrA) + len(arrB)\n",
    "    merged_arr = [0] * elements\n",
    "    \n",
    "    l = 0\n",
    "    r = 0\n",
    "    \n",
    "    for i in range(0, elements):\n",
    "        if l == len(arrA):\n",
    "            merged_arr[i] = arrB[r]\n",
    "            r += 1\n",
    "            \n",
    "        elif r == len(arrB):\n",
    "            merged_arr[i] = arrA[l]\n",
    "            l += 1\n",
    "            \n",
    "        elif arrA[l] < arrB[r]:\n",
    "            merged_arr[i] = arrA[l]\n",
    "            l += 1\n",
    "            \n",
    "        elif arrA[l] > arrB[r]:\n",
    "            merged_arr[i] = arrB[r]\n",
    "            r += 1\n",
    "\n",
    "    return merged_arr\n"
   ]
  },
  {
   "cell_type": "code",
   "execution_count": 77,
   "metadata": {},
   "outputs": [],
   "source": [
    "arrA = [0, 2, 5, 10]\n",
    "arrB = [-2, 3, 4, 7]"
   ]
  },
  {
   "cell_type": "code",
   "execution_count": 78,
   "metadata": {},
   "outputs": [
    {
     "data": {
      "text/plain": [
       "[-2, 0, 2, 3, 4, 5, 7, 10]"
      ]
     },
     "execution_count": 78,
     "metadata": {},
     "output_type": "execute_result"
    }
   ],
   "source": [
    "merge(arrA, arrB)"
   ]
  },
  {
   "cell_type": "code",
   "execution_count": 79,
   "metadata": {},
   "outputs": [],
   "source": [
    "def merge_sort_2(arr):\n",
    "    if len(arr) > 1:\n",
    "        mid = len(arr) // 2\n",
    "        arrA = arr[:mid]\n",
    "        arrB = arr[mid:]\n",
    "        arrA = merge_sort(arrA)\n",
    "        arrB = merge_sort(arrB)\n",
    "        return merge(arrA, arrB)\n",
    "    return arr"
   ]
  },
  {
   "cell_type": "code",
   "execution_count": 4,
   "metadata": {},
   "outputs": [],
   "source": [
    "# TO-DO: implement the Merge Sort function below recursively\n",
    "def merge_sort_2(arr):\n",
    "    if len(arr) > 1:\n",
    "        \n",
    "        # mid is the point where the array is divided into two subarrays\n",
    "        mid = len(arr) // 2\n",
    "        left = arr[:mid]\n",
    "        right = arr[mid:]\n",
    "        \n",
    "        # Sort the two halves\n",
    "        merge_sort_2(left)\n",
    "        merge_sort_2(right)\n",
    "        \n",
    "        i = 0\n",
    "        j = 0\n",
    "        k = 0\n",
    "        \n",
    "        # Until we reach either end of either Left or Right, pick larger among\n",
    "        # elements Left and Right and place them in the correct position\n",
    "        while i < len(left) and j < len(right):\n",
    "            if left[i] < right[j]:\n",
    "                arr[k] = left[i]\n",
    "                i += 1\n",
    "            else:\n",
    "                arr[k] = right[j]\n",
    "                j += 1\n",
    "            k += 1\n",
    "                \n",
    "        # When we run out of elements in either Left or Right,\n",
    "        # pick up the remaining elements\n",
    "        while i < len(left):\n",
    "            arr[k] = left[i]\n",
    "            i += 1\n",
    "            k += 1\n",
    "            \n",
    "        while j < len(right):\n",
    "            arr[k] = right[j]\n",
    "            j += 1\n",
    "            k += 1\n",
    "\n",
    "\n",
    "    return arr"
   ]
  },
  {
   "cell_type": "code",
   "execution_count": 81,
   "metadata": {},
   "outputs": [],
   "source": [
    "array = [2, 5, 1, 0, 7, 4, 10]"
   ]
  },
  {
   "cell_type": "code",
   "execution_count": 5,
   "metadata": {},
   "outputs": [],
   "source": [
    "array_2 = [5, 3, 1, 0, 7, 4, 10, -3]"
   ]
  },
  {
   "cell_type": "code",
   "execution_count": 83,
   "metadata": {},
   "outputs": [],
   "source": [
    "sort_1 = merge_sort(array)"
   ]
  },
  {
   "cell_type": "code",
   "execution_count": 6,
   "metadata": {},
   "outputs": [],
   "source": [
    "def printList(array):\n",
    "    for ii in range(len(array)):\n",
    "        print(array[ii], end=', ')"
   ]
  },
  {
   "cell_type": "code",
   "execution_count": 85,
   "metadata": {},
   "outputs": [
    {
     "name": "stdout",
     "output_type": "stream",
     "text": [
      "0, 1, 2, 4, 5, 7, 10, "
     ]
    }
   ],
   "source": [
    "printList(sort_1)"
   ]
  },
  {
   "cell_type": "code",
   "execution_count": 7,
   "metadata": {},
   "outputs": [],
   "source": [
    "sorted_2 = merge_sort_2(array_2)"
   ]
  },
  {
   "cell_type": "code",
   "execution_count": 8,
   "metadata": {},
   "outputs": [
    {
     "name": "stdout",
     "output_type": "stream",
     "text": [
      "-3, 0, 1, 3, 4, 5, 7, 10, "
     ]
    }
   ],
   "source": [
    "printList(sorted_2)"
   ]
  },
  {
   "cell_type": "code",
   "execution_count": 11,
   "metadata": {},
   "outputs": [],
   "source": [
    "\n",
    "# STRETCH: implement the recursive logic for merge sort in a way that doesn't \n",
    "# utilize any extra memory\n",
    "# In other words, your implementation should not allocate any additional lists \n",
    "# or data structures; it can only re-use the memory it was given as input\n",
    "def merge_in_place(arr, start, mid, end):\n",
    "    new = mid + 1\n",
    "    \n",
    "    # if merge is already sorted\n",
    "    if arr[mid] <= arr[new]:\n",
    "        return\n",
    "    \n",
    "    #two pointers to maintain start of both arrays to merge\n",
    "    while start <= mid and new <= end:\n",
    "        \n",
    "        # if element 1 is in right place\n",
    "        if arr[start] <= arr[new]:\n",
    "            start += 1\n",
    "        else:\n",
    "            value = arr[new]\n",
    "            index = new\n",
    "            \n",
    "            # shift all the elements between element 2, right by 1\n",
    "            while index != start:\n",
    "                arr[index] = arr[index - 1]\n",
    "                index -= 1\n",
    "                \n",
    "            arr[start] = value\n",
    "            \n",
    "            # Update all the pointers\n",
    "            start += 1\n",
    "            mid += 1\n",
    "            new +=1\n",
    "\n",
    "def merge_sort_in_place(arr, l, r):\n",
    "    if (r - l) > 1:\n",
    "\n",
    "        mid = 1 + (r - l) // 2\n",
    "        left = arr[:mid]\n",
    "        right = arr[mid:]\n",
    "        # sort first and second halfs\n",
    "        left = merge_sort_in_place(left, 0, mid)\n",
    "        right = merge_sort_in_place(right, 0, len(right))\n",
    "        \n",
    "        arr = merge_in_place(left, right)\n",
    "#     return arr\n"
   ]
  },
  {
   "cell_type": "markdown",
   "metadata": {},
   "source": [
    "# Search"
   ]
  },
  {
   "cell_type": "code",
   "execution_count": 13,
   "metadata": {},
   "outputs": [],
   "source": [
    "# TO-DO: Implement a recursive implementation of binary search\n",
    "def binary_search(arr, target, start, end):\n",
    "    if start > end:\n",
    "        return False\n",
    "    else:\n",
    "        mid = (start + end) / 2\n",
    "        if x == arr[mid]:\n",
    "            return mid\n",
    "        else:\n",
    "            if target < arr[mid]:  # target is on the right side\n",
    "                return binary_search(arr, target, mid + 1, end)\n",
    "            else:\n",
    "                return binary_search(arr, target, start, mid - 1)\n"
   ]
  },
  {
   "cell_type": "code",
   "execution_count": null,
   "metadata": {},
   "outputs": [],
   "source": []
  },
  {
   "cell_type": "code",
   "execution_count": null,
   "metadata": {},
   "outputs": [],
   "source": []
  },
  {
   "cell_type": "code",
   "execution_count": null,
   "metadata": {},
   "outputs": [],
   "source": [
    "# STRETCH: implement an order-agnostic binary search\n",
    "# This version of binary search should correctly find \n",
    "# the target regardless of whether the input array is\n",
    "# sorted in ascending order or in descending order\n",
    "# You can implement this function either recursively \n",
    "# or iteratively\n",
    "def agnostic_binary_search(arr, target):\n",
    "    # Your code here"
   ]
  }
 ],
 "metadata": {
  "kernelspec": {
   "display_name": "U4-S1-NLP (Python3)",
   "language": "python",
   "name": "u4-s1-nlp"
  },
  "language_info": {
   "codemirror_mode": {
    "name": "ipython",
    "version": 3
   },
   "file_extension": ".py",
   "mimetype": "text/x-python",
   "name": "python",
   "nbconvert_exporter": "python",
   "pygments_lexer": "ipython3",
   "version": "3.7.0"
  }
 },
 "nbformat": 4,
 "nbformat_minor": 2
}
