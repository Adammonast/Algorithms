{
 "cells": [
  {
   "cell_type": "code",
   "execution_count": 4,
   "metadata": {},
   "outputs": [
    {
     "name": "stdout",
     "output_type": "stream",
     "text": [
      "1\n",
      "2\n",
      "3\n",
      "4\n",
      "5\n",
      "6\n",
      "7\n",
      "8\n",
      "9\n"
     ]
    }
   ],
   "source": [
    "def foo(x, y):\n",
    "    if x < y:  # base case\n",
    "        \n",
    "        print(x)\n",
    "        foo(x + 1, y)\n",
    "    \n",
    "foo(1, 10)"
   ]
  },
  {
   "cell_type": "code",
   "execution_count": 7,
   "metadata": {},
   "outputs": [
    {
     "name": "stdout",
     "output_type": "stream",
     "text": [
      "1\n",
      "2\n"
     ]
    }
   ],
   "source": [
    "def foo(x, y):\n",
    "    if x >= y:  # base case\n",
    "        return\n",
    "        \n",
    "        \n",
    "    print(x)\n",
    "    foo(x + 1, y)\n",
    "    \n",
    "foo(1, 3)"
   ]
  },
  {
   "cell_type": "code",
   "execution_count": 8,
   "metadata": {},
   "outputs": [
    {
     "name": "stdout",
     "output_type": "stream",
     "text": [
      "1\n",
      "2\n"
     ]
    }
   ],
   "source": [
    "for i in range(1, 3):\n",
    "              print(i)"
   ]
  },
  {
   "cell_type": "code",
   "execution_count": 21,
   "metadata": {},
   "outputs": [
    {
     "name": "stdout",
     "output_type": "stream",
     "text": [
      "on the way in: 1\n",
      "on the way in: 2\n",
      "on the way in: 3\n",
      "on the way in: 4\n",
      "on the way out: 4\n",
      "on the way out: 3\n",
      "on the way out: 2\n",
      "on the way out: 1\n"
     ]
    }
   ],
   "source": [
    "def foo(x, y):\n",
    "    if x >= y:  # base case\n",
    "        return\n",
    "    print(f'on the way in: {x}')\n",
    "    \n",
    "    foo(x + 1, y)\n",
    "    \n",
    "    print(f'on the way out: {x}')\n",
    "    \n",
    "    return\n",
    "    \n",
    "foo(1, 5)\n"
   ]
  },
  {
   "cell_type": "code",
   "execution_count": 31,
   "metadata": {},
   "outputs": [
    {
     "name": "stdout",
     "output_type": "stream",
     "text": [
      "1\n",
      "2\n"
     ]
    }
   ],
   "source": [
    "def print_nums(x, y):\n",
    "    if x >= y:\n",
    "        return\n",
    "    \n",
    "    print(x)\n",
    "    \n",
    "    print_nums(x + 1, y)\n",
    "    \n",
    "print_nums(1, 3)"
   ]
  },
  {
   "cell_type": "code",
   "execution_count": 43,
   "metadata": {},
   "outputs": [
    {
     "data": {
      "text/plain": [
       "8"
      ]
     },
     "execution_count": 43,
     "metadata": {},
     "output_type": "execute_result"
    }
   ],
   "source": [
    "# 0 1 2 3 4 5 6  7  8  9 10 \n",
    "# 0 1 1 2 3 5 8 13 21 34 55 ...\n",
    "\n",
    "'''\n",
    "Recursive\n",
    "'''\n",
    "# fib(6):\n",
    "#     fib(5)+fib(4)\n",
    "\n",
    "# fib(0):\n",
    "#   0\n",
    "\n",
    "# fib(1):\n",
    "#   1\n",
    "# fib(n):\n",
    "#     fib(n - 1) + fib(n - 2)\n",
    "\n",
    "\n",
    "def fib(n):\n",
    "    if n == 0: return 0  # base case\n",
    "    if n == 1: return 1  # base case\n",
    "#     if n <= 1: return n # -> replace the 2 top lines\n",
    "    return fib(n-1) + fib(n-2)\n",
    "\n",
    "fib(6)"
   ]
  },
  {
   "cell_type": "code",
   "execution_count": 59,
   "metadata": {},
   "outputs": [
    {
     "name": "stdout",
     "output_type": "stream",
     "text": [
      "0: 0\n",
      "1: 1\n",
      "2: 1\n",
      "3: 2\n",
      "4: 3\n",
      "5: 5\n",
      "6: 8\n",
      "7: 13\n",
      "8: 21\n",
      "9: 34\n",
      "10: 55\n",
      "11: 89\n",
      "12: 144\n",
      "13: 233\n",
      "14: 377\n",
      "15: 610\n",
      "16: 987\n",
      "17: 1597\n",
      "18: 2584\n",
      "19: 4181\n",
      "20: 6765\n",
      "21: 10946\n",
      "22: 17711\n",
      "23: 28657\n",
      "24: 46368\n",
      "25: 75025\n",
      "26: 121393\n",
      "27: 196418\n",
      "28: 317811\n",
      "29: 514229\n",
      "30: 832040\n",
      "31: 1346269\n",
      "32: 2178309\n",
      "33: 3524578\n",
      "34: 5702887\n"
     ]
    }
   ],
   "source": [
    "# very long time to run\n",
    "\n",
    "def fib(n):\n",
    "    if n == 0: return 0  # base case\n",
    "    if n == 1: return 1  # base case\n",
    "#     if n <= 1: return n # -> replace the 2 top lines\n",
    "    return fib(n-1) + fib(n-2)\n",
    "\n",
    "fib(6)\n",
    "\n",
    "for i in range(35):  # very long time to run\n",
    "    print(f'{i}: {fib(i)}')"
   ]
  },
  {
   "cell_type": "code",
   "execution_count": 53,
   "metadata": {},
   "outputs": [
    {
     "name": "stdout",
     "output_type": "stream",
     "text": [
      "0: 0\n",
      "1: 1\n",
      "2: 1\n",
      "3: 2\n",
      "4: 3\n",
      "5: 5\n",
      "6: 8\n",
      "7: 13\n",
      "8: 21\n",
      "9: 34\n",
      "10: 55\n",
      "11: 89\n",
      "12: 144\n",
      "13: 233\n",
      "14: 377\n",
      "15: 610\n",
      "16: 987\n",
      "17: 1597\n",
      "18: 2584\n",
      "19: 4181\n",
      "20: 6765\n",
      "21: 10946\n",
      "22: 17711\n",
      "23: 28657\n",
      "24: 46368\n",
      "25: 75025\n",
      "26: 121393\n",
      "27: 196418\n",
      "28: 317811\n",
      "29: 514229\n",
      "30: 832040\n",
      "31: 1346269\n",
      "32: 2178309\n",
      "33: 3524578\n",
      "34: 5702887\n",
      "35: 9227465\n",
      "36: 14930352\n",
      "37: 24157817\n",
      "38: 39088169\n",
      "39: 63245986\n",
      "40: 102334155\n",
      "41: 165580141\n",
      "42: 267914296\n",
      "43: 433494437\n",
      "44: 701408733\n",
      "45: 1134903170\n",
      "46: 1836311903\n",
      "47: 2971215073\n",
      "48: 4807526976\n",
      "49: 7778742049\n",
      "50: 12586269025\n",
      "51: 20365011074\n",
      "52: 32951280099\n",
      "53: 53316291173\n",
      "54: 86267571272\n",
      "55: 139583862445\n",
      "56: 225851433717\n",
      "57: 365435296162\n",
      "58: 591286729879\n",
      "59: 956722026041\n",
      "60: 1548008755920\n",
      "61: 2504730781961\n",
      "62: 4052739537881\n",
      "63: 6557470319842\n",
      "64: 10610209857723\n",
      "65: 17167680177565\n",
      "66: 27777890035288\n",
      "67: 44945570212853\n",
      "68: 72723460248141\n",
      "69: 117669030460994\n",
      "70: 190392490709135\n",
      "71: 308061521170129\n",
      "72: 498454011879264\n",
      "73: 806515533049393\n",
      "74: 1304969544928657\n",
      "75: 2111485077978050\n",
      "76: 3416454622906707\n",
      "77: 5527939700884757\n",
      "78: 8944394323791464\n",
      "79: 14472334024676221\n",
      "80: 23416728348467685\n",
      "81: 37889062373143906\n",
      "82: 61305790721611591\n",
      "83: 99194853094755497\n",
      "84: 160500643816367088\n",
      "85: 259695496911122585\n",
      "86: 420196140727489673\n",
      "87: 679891637638612258\n",
      "88: 1100087778366101931\n",
      "89: 1779979416004714189\n",
      "90: 2880067194370816120\n",
      "91: 4660046610375530309\n",
      "92: 7540113804746346429\n",
      "93: 12200160415121876738\n",
      "94: 19740274219868223167\n",
      "95: 31940434634990099905\n",
      "96: 51680708854858323072\n",
      "97: 83621143489848422977\n",
      "98: 135301852344706746049\n",
      "99: 218922995834555169026\n"
     ]
    }
   ],
   "source": [
    "# Made it quicker\n",
    "\n",
    "cache = {}\n",
    "\n",
    "def fib(n):\n",
    "    if n == 0: return 0  # base case\n",
    "    if n == 1: return 1  # base case\n",
    "#     if n <= 1: return n # -> replace the 2 top lines\n",
    "    if n not in cache:\n",
    "        cache[n] = fib(n-1) + fib(n-2)\n",
    "    return cache[n]\n",
    "\n",
    "for i in range(100):\n",
    "    print(f'{i}: {fib(i)}')"
   ]
  },
  {
   "cell_type": "markdown",
   "metadata": {},
   "source": [
    "## Quicksort"
   ]
  },
  {
   "cell_type": "code",
   "execution_count": 52,
   "metadata": {},
   "outputs": [
    {
     "name": "stdout",
     "output_type": "stream",
     "text": [
      "[1, 2, 3, 4, 5, 6, 7, 8, 9]\n"
     ]
    }
   ],
   "source": [
    "'''\n",
    "quicksort(a):\n",
    "    ...\n",
    "    ...\n",
    "    quicksort(...)\n",
    "    \n",
    "[5 9 3 7 2 8 1 6]\n",
    "[3 2 1]      [5] [9 7 8 6]  Thing sorted after this pass: 1\n",
    "              ^\n",
    "[2 1] [3] [5] [7 8 6] [9]  Things sorted after this pass: 3\n",
    "       ^   ^           ^\n",
    "[1] [2] [] [3] [] [5] [6] [7] [8] [9] []\n",
    "     ^      ^      ^       ^       ^\n",
    "\n",
    "[1 2 3 4 5 6]\n",
    "[1] [2 3 4 5 6]\n",
    "[1] [2] [3 4 5 6]\n",
    "[1] [2] [3] [4 5 6]\n",
    "\n",
    "[5 3 2 4 1  8 7 6 9]\n",
    "\n",
    "[3 2 4 1] [5] [8 7 6 9]\n",
    "[2 1] [3] [4] [5] [7 6] [8] [9]\n",
    "\n",
    "portinioning in quicksort:\n",
    "    choose a number to be the _pivot_\n",
    "'''\n",
    "def partition(a):\n",
    "    left = []\n",
    "    pivot = a[0]  # random number might increase performance\n",
    "    right = []\n",
    "    \n",
    "    for v in a[1:]:\n",
    "        if v < pivot:\n",
    "            left.append(v)\n",
    "        else:\n",
    "            right.append(v)\n",
    "    return left, pivot, right\n",
    "\n",
    "def quicksort(a):\n",
    "    if len(a) <= 1:\n",
    "        return a\n",
    "    left, pivot, right = partition(a)\n",
    "    \n",
    "    return quicksort(left) + [pivot] + quicksort(right)\n",
    "\n",
    "print(quicksort([5, 9, 3, 7, 2, 8, 1, 6, 4]))"
   ]
  },
  {
   "cell_type": "markdown",
   "metadata": {},
   "source": [
    "## Quicksort in place"
   ]
  },
  {
   "cell_type": "code",
   "execution_count": null,
   "metadata": {},
   "outputs": [],
   "source": [
    "# In-place quicksort\n",
    "# We're going to move things around in the passed-in array\n",
    "#  0\n",
    "#  p\n",
    "# [5 9 3 7 2 8 1 6]\n",
    "#  ^             ^\n",
    "# low          high\n",
    "\n",
    "def quicksort(a, low, high):\n",
    "    \n",
    "a = [5, 9, 3, 7, 2, 8, 1, 6]\n",
    "quicksort(a, 0, len(a))\n",
    "\n",
    "a[2], a[3] = a[3], a[2]"
   ]
  },
  {
   "cell_type": "markdown",
   "metadata": {},
   "source": [
    "## Merge sort"
   ]
  },
  {
   "cell_type": "raw",
   "metadata": {},
   "source": [
    "        [5 9 3 7 2 8 1 6]\n",
    "     [5 9 3 7]       [2 8 1 6]\n",
    "   [5 9] [3 7]     [2 8] [1 6]\n",
    " [5] [9] [3] [7]  [2] [8] [1] [6]\n",
    "\n",
    "phase 2: merge!\n",
    "\n",
    "[5] [9] [3] [7]   [2] [3] [1] [6]\n",
    "  [5 9] [3 7]       [2 8] [1 6]\n",
    "   [3 5 7 9]         [1 2 6 8]\n",
    "    ^                 ^\n",
    "      \n",
    "        [1 2 3 5 6 7 8 9]"
   ]
  },
  {
   "cell_type": "markdown",
   "metadata": {},
   "source": [
    "### Quicksort vs Bubble sort"
   ]
  },
  {
   "cell_type": "raw",
   "metadata": {},
   "source": [
    "[1 2 3 4 5 6 7 8 9 10] Bad for quicksort 0(n^2)\n",
    "[1 2 3 4 5 7 6 8 9 10] Bad for quicksort 0(n^2)\n",
    "\n",
    "[1 2 3 4 5 7 6 8 9 10] Bubble sort 0(n)"
   ]
  },
  {
   "cell_type": "code",
   "execution_count": null,
   "metadata": {},
   "outputs": [],
   "source": []
  }
 ],
 "metadata": {
  "kernelspec": {
   "display_name": "U4-S1-NLP (Python3)",
   "language": "python",
   "name": "u4-s1-nlp"
  },
  "language_info": {
   "codemirror_mode": {
    "name": "ipython",
    "version": 3
   },
   "file_extension": ".py",
   "mimetype": "text/x-python",
   "name": "python",
   "nbconvert_exporter": "python",
   "pygments_lexer": "ipython3",
   "version": "3.7.0"
  }
 },
 "nbformat": 4,
 "nbformat_minor": 2
}
